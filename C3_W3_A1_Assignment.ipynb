{
 "cells": [
  {
   "cell_type": "markdown",
   "metadata": {},
   "source": [
    "# Deep Q-Learning - Lunar Lander\n",
    "\n",
    "In this assignment, you will train an agent to land a lunar lander safely on a landing pad on the surface of the moon.\n",
    "\n",
    "\n",
    "# Outline\n",
    "- [ 1 - Import Packages <img align=\"Right\" src=\"./images/lunar_lander.gif\" width = 60% >](#1)\n",
    "- [ 2 - Hyperparameters](#2)\n",
    "- [ 3 - The Lunar Lander Environment](#3)\n",
    "  - [ 3.1 Action Space](#3.1)\n",
    "  - [ 3.2 Observation Space](#3.2)\n",
    "  - [ 3.3 Rewards](#3.3)\n",
    "  - [ 3.4 Episode Termination](#3.4)\n",
    "- [ 4 - Load the Environment](#4)\n",
    "- [ 5 - Interacting with the Gym Environment](#5)\n",
    "    - [ 5.1 Exploring the Environment's Dynamics](#5.1)\n",
    "- [ 6 - Deep Q-Learning](#6)\n",
    "  - [ 6.1 Target Network](#6.1)\n",
    "    - [ Exercise 1](#ex01)\n",
    "  - [ 6.2 Experience Replay](#6.2)\n",
    "- [ 7 - Deep Q-Learning Algorithm with Experience Replay](#7)\n",
    "  - [ Exercise 2](#ex02)\n",
    "- [ 8 - Update the Network Weights](#8)\n",
    "- [ 9 - Train the Agent](#9)\n",
    "- [ 10 - See the Trained Agent In Action](#10)\n",
    "- [ 11 - Congratulations!](#11)\n",
    "- [ 12 - References](#12)\n"
   ]
  },
  {
   "cell_type": "markdown",
   "metadata": {},
   "source": [
    "_**NOTE:** To prevent errors from the autograder, you are not allowed to edit or delete non-graded cells in this lab. Please also refrain from adding any new cells. \n",
    "**Once you have passed this assignment** and want to experiment with any of the non-graded code, you may follow the instructions at the bottom of this notebook._"
   ]
  },
  {
   "cell_type": "markdown",
   "metadata": {},
   "source": [
    "<a name=\"1\"></a>\n",
    "## 1 - Import Packages\n",
    "\n",
    "We'll make use of the following packages:\n",
    "- `numpy` is a package for scientific computing in python.\n",
    "- `deque` will be our data structure for our memory buffer.\n",
    "- `namedtuple` will be used to store the experience tuples.\n",
    "- The `gym` toolkit is a collection of environments that can be used to test reinforcement learning algorithms. We should note that in this notebook we are using `gym` version `0.24.0`.\n",
    "- `PIL.Image` and `pyvirtualdisplay` are needed to render the Lunar Lander environment.\n",
    "- We will use several modules from the `tensorflow.keras` framework for building deep learning models.\n",
    "- `utils` is a module that contains helper functions for this assignment. You do not need to modify the code in this file.\n",
    "\n",
    "Run the cell below to import all the necessary packages."
   ]
  },
  {
   "cell_type": "code",
   "execution_count": 1,
   "metadata": {
    "deletable": false,
    "editable": false,
    "id": "KYbOPKRtfQOr"
   },
   "outputs": [],
   "source": [
    "import time\n",
    "from collections import deque, namedtuple\n",
    "\n",
    "import gym\n",
    "import numpy as np\n",
    "import PIL.Image\n",
    "import tensorflow as tf\n",
    "import utils\n",
    "\n",
    "from pyvirtualdisplay import Display\n",
    "from tensorflow.keras import Sequential\n",
    "from tensorflow.keras.layers import Dense, Input\n",
    "from tensorflow.keras.losses import MSE\n",
    "from tensorflow.keras.optimizers import Adam"
   ]
  },
  {
   "cell_type": "code",
   "execution_count": 2,
   "metadata": {
    "deletable": false,
    "editable": false
   },
   "outputs": [],
   "source": [
    "# Set up a virtual display to render the Lunar Lander environment.\n",
    "Display(visible=0, size=(840, 480)).start();\n",
    "\n",
    "# Set the random seed for TensorFlow\n",
    "tf.random.set_seed(utils.SEED)"
   ]
  },
  {
   "cell_type": "markdown",
   "metadata": {},
   "source": [
    "<a name=\"2\"></a>\n",
    "## 2 - Hyperparameters\n",
    "\n",
    "Run the cell below to set the hyperparameters."
   ]
  },
  {
   "cell_type": "code",
   "execution_count": 3,
   "metadata": {
    "deletable": false,
    "editable": false
   },
   "outputs": [],
   "source": [
    "MEMORY_SIZE = 100_000     # size of memory buffer\n",
    "GAMMA = 0.995             # discount factor\n",
    "ALPHA = 1e-3              # learning rate  \n",
    "NUM_STEPS_FOR_UPDATE = 4  # perform a learning update every C time steps"
   ]
  },
  {
   "cell_type": "markdown",
   "metadata": {},
   "source": [
    "<a name=\"3\"></a>\n",
    "## 3 - The Lunar Lander Environment\n",
    "\n",
    "In this notebook we will be using [OpenAI's Gym Library](https://www.gymlibrary.dev/). The Gym library provides a wide variety of environments for reinforcement learning. To put it simply, an environment represents a problem or task to be solved. In this notebook, we will try to solve the Lunar Lander environment using reinforcement learning.\n",
    "\n",
    "The goal of the Lunar Lander environment is to land the lunar lander safely on the landing pad on the surface of the moon. The landing pad is designated by two flag poles and its center is at coordinates `(0,0)` but the lander is also allowed to land outside of the landing pad. The lander starts at the top center of the environment with a random initial force applied to its center of mass and has infinite fuel. The environment is considered solved if you get `200` points. \n",
    "\n",
    "<br>\n",
    "<br>\n",
    "<figure>\n",
    "  <img src = \"images/lunar_lander.gif\" width = 40%>\n",
    "      <figcaption style = \"text-align: center; font-style: italic\">Fig 1. Lunar Lander Environment.</figcaption>\n",
    "</figure>\n",
    "\n",
    "\n",
    "\n",
    "<a name=\"3.1\"></a>\n",
    "### 3.1 Action Space\n",
    "\n",
    "The agent has four discrete actions available:\n",
    "\n",
    "* Do nothing.\n",
    "* Fire right engine.\n",
    "* Fire main engine.\n",
    "* Fire left engine.\n",
    "\n",
    "Each action has a corresponding numerical value:\n",
    "\n",
    "```python\n",
    "Do nothing = 0\n",
    "Fire right engine = 1\n",
    "Fire main engine = 2\n",
    "Fire left engine = 3\n",
    "```\n",
    "\n",
    "<a name=\"3.2\"></a>\n",
    "### 3.2 Observation Space\n",
    "\n",
    "The agent's observation space consists of a state vector with 8 variables:\n",
    "\n",
    "* Its $(x,y)$ coordinates. The landing pad is always at coordinates $(0,0)$.\n",
    "* Its linear velocities $(\\dot x,\\dot y)$.\n",
    "* Its angle $\\theta$.\n",
    "* Its angular velocity $\\dot \\theta$.\n",
    "* Two booleans, $l$ and $r$, that represent whether each leg is in contact with the ground or not.\n",
    "\n",
    "<a name=\"3.3\"></a>\n",
    "### 3.3 Rewards\n",
    "\n",
    "After every step, a reward is granted. The total reward of an episode is the sum of the rewards for all the steps within that episode.\n",
    "\n",
    "For each step, the reward:\n",
    "- is increased/decreased the closer/further the lander is to the landing pad.\n",
    "- is increased/decreased the slower/faster the lander is moving.\n",
    "- is decreased the more the lander is tilted (angle not horizontal).\n",
    "- is increased by 10 points for each leg that is in contact with the ground.\n",
    "- is decreased by 0.03 points each frame a side engine is firing.\n",
    "- is decreased by 0.3 points each frame the main engine is firing.\n",
    "\n",
    "The episode receives an additional reward of -100 or +100 points for crashing or landing safely respectively.\n",
    "\n",
    "<a name=\"3.4\"></a>\n",
    "### 3.4 Episode Termination\n",
    "\n",
    "An episode ends (i.e the environment enters a terminal state) if:\n",
    "\n",
    "* The lunar lander crashes (i.e if the body of the lunar lander comes in contact with the surface of the moon).\n",
    "\n",
    "* The absolute value of the lander's $x$-coordinate is greater than 1 (i.e. it goes beyond the left or right border)\n",
    "\n",
    "You can check out the [Open AI Gym documentation](https://www.gymlibrary.dev/environments/box2d/lunar_lander/) for a full description of the environment. "
   ]
  },
  {
   "cell_type": "markdown",
   "metadata": {},
   "source": [
    "<a name=\"4\"></a>\n",
    "## 4 - Load the Environment\n",
    "\n",
    "We start by loading the `LunarLander-v2` environment from the `gym` library by using the `.make()` method. `LunarLander-v2` is the latest version of the Lunar Lander environment and you can read about its version history in the [Open AI Gym documentation](https://www.gymlibrary.dev/environments/box2d/lunar_lander/#version-history)."
   ]
  },
  {
   "cell_type": "code",
   "execution_count": 4,
   "metadata": {
    "deletable": false,
    "editable": false,
    "id": "ILVMYKewfR0n"
   },
   "outputs": [],
   "source": [
    "env = gym.make('LunarLander-v2')"
   ]
  },
  {
   "cell_type": "markdown",
   "metadata": {},
   "source": [
    "Once we load the environment we use the `.reset()` method to reset the environment to the initial state. The lander starts at the top center of the environment and we can render the first frame of the environment by using the `.render()` method."
   ]
  },
  {
   "cell_type": "code",
   "execution_count": 5,
   "metadata": {
    "deletable": false,
    "editable": false
   },
   "outputs": [
    {
     "data": {
      "image/png": "[encoded data removed]",
      "text/plain": [
       "<PIL.Image.Image image mode=RGB size=600x400 at 0x7A93A46F1F50>"
      ]
     },
     "execution_count": 5,
     "metadata": {},
     "output_type": "execute_result"
    }
   ],
   "source": [
    "env.reset()\n",
    "PIL.Image.fromarray(env.render(mode='rgb_array'))"
   ]
  },
  {
   "cell_type": "markdown",
   "metadata": {},
   "source": [
    "In order to build our neural network later on we need to know the size of the state vector and the number of valid actions. We can get this information from our environment by using the `.observation_space.shape` and `action_space.n` methods, respectively."
   ]
  },
  {
   "cell_type": "code",
   "execution_count": 6,
   "metadata": {
    "deletable": false,
    "editable": false,
    "id": "x3fdqdG4CUu2"
   },
   "outputs": [
    {
     "name": "stdout",
     "output_type": "stream",
     "text": [
      "State Shape: (8,)\n",
      "Number of actions: 4\n"
     ]
    }
   ],
   "source": [
    "state_size = env.observation_space.shape\n",
    "num_actions = env.action_space.n\n",
    "\n",
    "print('State Shape:', state_size)\n",
    "print('Number of actions:', num_actions)"
   ]
  },
  {
   "cell_type": "markdown",
   "metadata": {},
   "source": [
    "<a name=\"5\"></a>\n",
    "## 5 - Interacting with the Gym Environment\n",
    "\n",
    "The Gym library implements the standard “agent-environment loop” formalism:\n",
    "\n",
    "<br>\n",
    "<center>\n",
    "<video src = \"./videos/rl_formalism.m4v\" width=\"840\" height=\"480\" controls autoplay loop poster=\"./images/rl_formalism.png\"> </video>\n",
    "<figcaption style = \"text-align:center; font-style:italic\">Fig 2. Agent-environment Loop Formalism.</figcaption>\n",
    "</center>\n",
    "<br>\n",
    "\n",
    "In the standard “agent-environment loop” formalism, an agent interacts with the environment in discrete time steps $t=0,1,2,...$. At each time step $t$, the agent uses a policy $\\pi$ to select an action $A_t$ based on its observation of the environment's state $S_t$. The agent receives a numerical reward $R_t$ and on the next time step, moves to a new state $S_{t+1}$.\n",
    "\n",
    "<a name=\"5.1\"></a>\n",
    "### 5.1 Exploring the Environment's Dynamics\n",
    "\n",
    "In Open AI's Gym environments, we use the `.step()` method to run a single time step of the environment's dynamics. In the version of `gym` that we are using the `.step()` method accepts an action and returns four values:\n",
    "\n",
    "* `observation` (**object**): an environment-specific object representing your observation of the environment. In the Lunar Lander environment this corresponds to a numpy array containing the positions and velocities of the lander as described in section [3.2 Observation Space](#3.2).\n",
    "\n",
    "\n",
    "* `reward` (**float**): amount of reward returned as a result of taking the given action. In the Lunar Lander environment this corresponds to a float of type `numpy.float64` as described in section [3.3 Rewards](#3.3).\n",
    "\n",
    "\n",
    "* `done` (**boolean**): When done is `True`, it indicates the episode has terminated and it’s time to reset the environment. \n",
    "\n",
    "\n",
    "* `info` (**dictionary**): diagnostic information useful for debugging. We won't be using this variable in this notebook but it is shown here for completeness.\n",
    "\n",
    "To begin an episode, we need to reset the environment to an initial state. We do this by using the `.reset()` method. "
   ]
  },
  {
   "cell_type": "code",
   "execution_count": 7,
   "metadata": {
    "deletable": false,
    "editable": false
   },
   "outputs": [],
   "source": [
    "# Reset the environment and get the initial state.\n",
    "current_state = env.reset()"
   ]
  },
  {
   "cell_type": "markdown",
   "metadata": {},
   "source": [
    "Once the environment is reset, the agent can start taking actions in the environment by using the `.step()` method. Note that the agent can only take one action per time step. \n",
    "\n",
    "In the cell below you can select different actions and see how the returned values change depending on the action taken. Remember that in this environment the agent has four discrete actions available and we specify them in code by using their corresponding numerical value:\n",
    "\n",
    "```python\n",
    "Do nothing = 0\n",
    "Fire right engine = 1\n",
    "Fire main engine = 2\n",
    "Fire left engine = 3\n",
    "```"
   ]
  },
  {
   "cell_type": "code",
   "execution_count": 12,
   "metadata": {
    "deletable": false
   },
   "outputs": [
    {
     "data": {
      "text/html": [
       "<style  type=\"text/css\" >\n",
       "    #T_c67b7dce_b033_11f0_bb93_0242ac120067 th {\n",
       "          border: 1px solid grey;\n",
       "          text-align: center;\n",
       "    }    #T_c67b7dce_b033_11f0_bb93_0242ac120067 tbody td {\n",
       "          border: 1px solid grey;\n",
       "          text-align: center;\n",
       "    }    #T_c67b7dce_b033_11f0_bb93_0242ac120067row0_col0 {\n",
       "            background-color :  grey;\n",
       "        }    #T_c67b7dce_b033_11f0_bb93_0242ac120067row1_col1 {\n",
       "            background-color :  grey;\n",
       "        }    #T_c67b7dce_b033_11f0_bb93_0242ac120067row1_col2 {\n",
       "            background-color :  grey;\n",
       "        }    #T_c67b7dce_b033_11f0_bb93_0242ac120067row1_col3 {\n",
       "            background-color :  grey;\n",
       "        }    #T_c67b7dce_b033_11f0_bb93_0242ac120067row1_col4 {\n",
       "            background-color :  grey;\n",
       "        }    #T_c67b7dce_b033_11f0_bb93_0242ac120067row1_col5 {\n",
       "            background-color :  grey;\n",
       "        }    #T_c67b7dce_b033_11f0_bb93_0242ac120067row1_col6 {\n",
       "            background-color :  grey;\n",
       "        }    #T_c67b7dce_b033_11f0_bb93_0242ac120067row1_col7 {\n",
       "            background-color :  grey;\n",
       "        }    #T_c67b7dce_b033_11f0_bb93_0242ac120067row1_col8 {\n",
       "            background-color :  grey;\n",
       "        }    #T_c67b7dce_b033_11f0_bb93_0242ac120067row1_col9 {\n",
       "            background-color :  grey;\n",
       "        }    #T_c67b7dce_b033_11f0_bb93_0242ac120067row1_col10 {\n",
       "            background-color :  grey;\n",
       "        }    #T_c67b7dce_b033_11f0_bb93_0242ac120067row1_col11 {\n",
       "            background-color :  grey;\n",
       "        }    #T_c67b7dce_b033_11f0_bb93_0242ac120067row2_col0 {\n",
       "            background-color :  grey;\n",
       "        }    #T_c67b7dce_b033_11f0_bb93_0242ac120067row3_col1 {\n",
       "            background-color :  grey;\n",
       "        }    #T_c67b7dce_b033_11f0_bb93_0242ac120067row3_col2 {\n",
       "            background-color :  grey;\n",
       "        }    #T_c67b7dce_b033_11f0_bb93_0242ac120067row3_col3 {\n",
       "            background-color :  grey;\n",
       "        }    #T_c67b7dce_b033_11f0_bb93_0242ac120067row3_col4 {\n",
       "            background-color :  grey;\n",
       "        }    #T_c67b7dce_b033_11f0_bb93_0242ac120067row3_col5 {\n",
       "            background-color :  grey;\n",
       "        }    #T_c67b7dce_b033_11f0_bb93_0242ac120067row3_col6 {\n",
       "            background-color :  grey;\n",
       "        }    #T_c67b7dce_b033_11f0_bb93_0242ac120067row3_col7 {\n",
       "            background-color :  grey;\n",
       "        }    #T_c67b7dce_b033_11f0_bb93_0242ac120067row3_col8 {\n",
       "            background-color :  grey;\n",
       "        }    #T_c67b7dce_b033_11f0_bb93_0242ac120067row3_col9 {\n",
       "            background-color :  grey;\n",
       "        }    #T_c67b7dce_b033_11f0_bb93_0242ac120067row3_col10 {\n",
       "            background-color :  grey;\n",
       "        }    #T_c67b7dce_b033_11f0_bb93_0242ac120067row3_col11 {\n",
       "            background-color :  grey;\n",
       "        }    #T_c67b7dce_b033_11f0_bb93_0242ac120067row4_col1 {\n",
       "            background-color :  grey;\n",
       "        }    #T_c67b7dce_b033_11f0_bb93_0242ac120067row4_col2 {\n",
       "            background-color :  grey;\n",
       "        }    #T_c67b7dce_b033_11f0_bb93_0242ac120067row4_col3 {\n",
       "            background-color :  grey;\n",
       "        }    #T_c67b7dce_b033_11f0_bb93_0242ac120067row4_col4 {\n",
       "            background-color :  grey;\n",
       "        }    #T_c67b7dce_b033_11f0_bb93_0242ac120067row4_col5 {\n",
       "            background-color :  grey;\n",
       "        }    #T_c67b7dce_b033_11f0_bb93_0242ac120067row4_col6 {\n",
       "            background-color :  grey;\n",
       "        }    #T_c67b7dce_b033_11f0_bb93_0242ac120067row4_col7 {\n",
       "            background-color :  grey;\n",
       "        }    #T_c67b7dce_b033_11f0_bb93_0242ac120067row4_col8 {\n",
       "            background-color :  grey;\n",
       "        }    #T_c67b7dce_b033_11f0_bb93_0242ac120067row4_col9 {\n",
       "            background-color :  grey;\n",
       "        }    #T_c67b7dce_b033_11f0_bb93_0242ac120067row4_col10 {\n",
       "            background-color :  grey;\n",
       "        }    #T_c67b7dce_b033_11f0_bb93_0242ac120067row4_col11 {\n",
       "            background-color :  grey;\n",
       "        }</style><table id=\"T_c67b7dce_b033_11f0_bb93_0242ac120067\" ><thead>    <tr>        <th class=\"blank level0\" ></th>        <th class=\"col_heading level0 col0\" ></th>        <th class=\"col_heading level0 col1\" colspan=8>State Vector</th>        <th class=\"col_heading level0 col9\" colspan=3>Derived from the State Vector (the closer to zero, the better)</th>    </tr>    <tr>        <th class=\"blank level1\" ></th>        <th class=\"col_heading level1 col0\" ></th>        <th class=\"col_heading level1 col1\" colspan=2>Coordinate</th>        <th class=\"col_heading level1 col3\" colspan=2>Velocity</th>        <th class=\"col_heading level1 col5\" colspan=2>Tilting</th>        <th class=\"col_heading level1 col7\" colspan=2>Ground contact</th>        <th class=\"col_heading level1 col9\" >Distance from landing pad</th>        <th class=\"col_heading level1 col10\" >Velocity</th>        <th class=\"col_heading level1 col11\" >Tilting Angle (absolute value)</th>    </tr>    <tr>        <th class=\"blank level2\" ></th>        <th class=\"col_heading level2 col0\" ></th>        <th class=\"col_heading level2 col1\" >X (Horizontal)</th>        <th class=\"col_heading level2 col2\" >Y (Vertical)</th>        <th class=\"col_heading level2 col3\" >X (Horizontal)</th>        <th class=\"col_heading level2 col4\" >Y (Vertical)</th>        <th class=\"col_heading level2 col5\" >Angle</th>        <th class=\"col_heading level2 col6\" >Angular Velocity</th>        <th class=\"col_heading level2 col7\" >Left Leg?</th>        <th class=\"col_heading level2 col8\" >Right Leg?</th>        <th class=\"col_heading level2 col9\" ></th>        <th class=\"col_heading level2 col10\" ></th>        <th class=\"col_heading level2 col11\" ></th>    </tr></thead><tbody>\n",
       "                <tr>\n",
       "                        <th id=\"T_c67b7dce_b033_11f0_bb93_0242ac120067level0_row0\" class=\"row_heading level0 row0\" >Current State</th>\n",
       "                        <td id=\"T_c67b7dce_b033_11f0_bb93_0242ac120067row0_col0\" class=\"data row0 col0\" ></td>\n",
       "                        <td id=\"T_c67b7dce_b033_11f0_bb93_0242ac120067row0_col1\" class=\"data row0 col1\" >0.009896</td>\n",
       "                        <td id=\"T_c67b7dce_b033_11f0_bb93_0242ac120067row0_col2\" class=\"data row0 col2\" >1.463179</td>\n",
       "                        <td id=\"T_c67b7dce_b033_11f0_bb93_0242ac120067row0_col3\" class=\"data row0 col3\" >0.212731</td>\n",
       "                        <td id=\"T_c67b7dce_b033_11f0_bb93_0242ac120067row0_col4\" class=\"data row0 col4\" >0.456430</td>\n",
       "                        <td id=\"T_c67b7dce_b033_11f0_bb93_0242ac120067row0_col5\" class=\"data row0 col5\" >-0.013446</td>\n",
       "                        <td id=\"T_c67b7dce_b033_11f0_bb93_0242ac120067row0_col6\" class=\"data row0 col6\" >-0.038630</td>\n",
       "                        <td id=\"T_c67b7dce_b033_11f0_bb93_0242ac120067row0_col7\" class=\"data row0 col7\" >False</td>\n",
       "                        <td id=\"T_c67b7dce_b033_11f0_bb93_0242ac120067row0_col8\" class=\"data row0 col8\" >False</td>\n",
       "                        <td id=\"T_c67b7dce_b033_11f0_bb93_0242ac120067row0_col9\" class=\"data row0 col9\" >1.463213</td>\n",
       "                        <td id=\"T_c67b7dce_b033_11f0_bb93_0242ac120067row0_col10\" class=\"data row0 col10\" >0.503570</td>\n",
       "                        <td id=\"T_c67b7dce_b033_11f0_bb93_0242ac120067row0_col11\" class=\"data row0 col11\" >0.013446</td>\n",
       "            </tr>\n",
       "            <tr>\n",
       "                        <th id=\"T_c67b7dce_b033_11f0_bb93_0242ac120067level0_row1\" class=\"row_heading level0 row1\" >Action</th>\n",
       "                        <td id=\"T_c67b7dce_b033_11f0_bb93_0242ac120067row1_col0\" class=\"data row1 col0\" >Do nothing</td>\n",
       "                        <td id=\"T_c67b7dce_b033_11f0_bb93_0242ac120067row1_col1\" class=\"data row1 col1\" ></td>\n",
       "                        <td id=\"T_c67b7dce_b033_11f0_bb93_0242ac120067row1_col2\" class=\"data row1 col2\" ></td>\n",
       "                        <td id=\"T_c67b7dce_b033_11f0_bb93_0242ac120067row1_col3\" class=\"data row1 col3\" ></td>\n",
       "                        <td id=\"T_c67b7dce_b033_11f0_bb93_0242ac120067row1_col4\" class=\"data row1 col4\" ></td>\n",
       "                        <td id=\"T_c67b7dce_b033_11f0_bb93_0242ac120067row1_col5\" class=\"data row1 col5\" ></td>\n",
       "                        <td id=\"T_c67b7dce_b033_11f0_bb93_0242ac120067row1_col6\" class=\"data row1 col6\" ></td>\n",
       "                        <td id=\"T_c67b7dce_b033_11f0_bb93_0242ac120067row1_col7\" class=\"data row1 col7\" ></td>\n",
       "                        <td id=\"T_c67b7dce_b033_11f0_bb93_0242ac120067row1_col8\" class=\"data row1 col8\" ></td>\n",
       "                        <td id=\"T_c67b7dce_b033_11f0_bb93_0242ac120067row1_col9\" class=\"data row1 col9\" ></td>\n",
       "                        <td id=\"T_c67b7dce_b033_11f0_bb93_0242ac120067row1_col10\" class=\"data row1 col10\" ></td>\n",
       "                        <td id=\"T_c67b7dce_b033_11f0_bb93_0242ac120067row1_col11\" class=\"data row1 col11\" ></td>\n",
       "            </tr>\n",
       "            <tr>\n",
       "                        <th id=\"T_c67b7dce_b033_11f0_bb93_0242ac120067level0_row2\" class=\"row_heading level0 row2\" >Next State</th>\n",
       "                        <td id=\"T_c67b7dce_b033_11f0_bb93_0242ac120067row2_col0\" class=\"data row2 col0\" ></td>\n",
       "                        <td id=\"T_c67b7dce_b033_11f0_bb93_0242ac120067row2_col1\" class=\"data row2 col1\" >0.012004</td>\n",
       "                        <td id=\"T_c67b7dce_b033_11f0_bb93_0242ac120067row2_col2\" class=\"data row2 col2\" >1.472849</td>\n",
       "                        <td id=\"T_c67b7dce_b033_11f0_bb93_0242ac120067row2_col3\" class=\"data row2 col3\" >0.212736</td>\n",
       "                        <td id=\"T_c67b7dce_b033_11f0_bb93_0242ac120067row2_col4\" class=\"data row2 col4\" >0.429751</td>\n",
       "                        <td id=\"T_c67b7dce_b033_11f0_bb93_0242ac120067row2_col5\" class=\"data row2 col5\" >-0.015377</td>\n",
       "                        <td id=\"T_c67b7dce_b033_11f0_bb93_0242ac120067row2_col6\" class=\"data row2 col6\" >-0.038627</td>\n",
       "                        <td id=\"T_c67b7dce_b033_11f0_bb93_0242ac120067row2_col7\" class=\"data row2 col7\" >False</td>\n",
       "                        <td id=\"T_c67b7dce_b033_11f0_bb93_0242ac120067row2_col8\" class=\"data row2 col8\" >False</td>\n",
       "                        <td id=\"T_c67b7dce_b033_11f0_bb93_0242ac120067row2_col9\" class=\"data row2 col9\" >1.472898</td>\n",
       "                        <td id=\"T_c67b7dce_b033_11f0_bb93_0242ac120067row2_col10\" class=\"data row2 col10\" >0.479523</td>\n",
       "                        <td id=\"T_c67b7dce_b033_11f0_bb93_0242ac120067row2_col11\" class=\"data row2 col11\" >0.015377</td>\n",
       "            </tr>\n",
       "            <tr>\n",
       "                        <th id=\"T_c67b7dce_b033_11f0_bb93_0242ac120067level0_row3\" class=\"row_heading level0 row3\" >Reward</th>\n",
       "                        <td id=\"T_c67b7dce_b033_11f0_bb93_0242ac120067row3_col0\" class=\"data row3 col0\" >1.243034</td>\n",
       "                        <td id=\"T_c67b7dce_b033_11f0_bb93_0242ac120067row3_col1\" class=\"data row3 col1\" ></td>\n",
       "                        <td id=\"T_c67b7dce_b033_11f0_bb93_0242ac120067row3_col2\" class=\"data row3 col2\" ></td>\n",
       "                        <td id=\"T_c67b7dce_b033_11f0_bb93_0242ac120067row3_col3\" class=\"data row3 col3\" ></td>\n",
       "                        <td id=\"T_c67b7dce_b033_11f0_bb93_0242ac120067row3_col4\" class=\"data row3 col4\" ></td>\n",
       "                        <td id=\"T_c67b7dce_b033_11f0_bb93_0242ac120067row3_col5\" class=\"data row3 col5\" ></td>\n",
       "                        <td id=\"T_c67b7dce_b033_11f0_bb93_0242ac120067row3_col6\" class=\"data row3 col6\" ></td>\n",
       "                        <td id=\"T_c67b7dce_b033_11f0_bb93_0242ac120067row3_col7\" class=\"data row3 col7\" ></td>\n",
       "                        <td id=\"T_c67b7dce_b033_11f0_bb93_0242ac120067row3_col8\" class=\"data row3 col8\" ></td>\n",
       "                        <td id=\"T_c67b7dce_b033_11f0_bb93_0242ac120067row3_col9\" class=\"data row3 col9\" ></td>\n",
       "                        <td id=\"T_c67b7dce_b033_11f0_bb93_0242ac120067row3_col10\" class=\"data row3 col10\" ></td>\n",
       "                        <td id=\"T_c67b7dce_b033_11f0_bb93_0242ac120067row3_col11\" class=\"data row3 col11\" ></td>\n",
       "            </tr>\n",
       "            <tr>\n",
       "                        <th id=\"T_c67b7dce_b033_11f0_bb93_0242ac120067level0_row4\" class=\"row_heading level0 row4\" >Episode Terminated</th>\n",
       "                        <td id=\"T_c67b7dce_b033_11f0_bb93_0242ac120067row4_col0\" class=\"data row4 col0\" >False</td>\n",
       "                        <td id=\"T_c67b7dce_b033_11f0_bb93_0242ac120067row4_col1\" class=\"data row4 col1\" ></td>\n",
       "                        <td id=\"T_c67b7dce_b033_11f0_bb93_0242ac120067row4_col2\" class=\"data row4 col2\" ></td>\n",
       "                        <td id=\"T_c67b7dce_b033_11f0_bb93_0242ac120067row4_col3\" class=\"data row4 col3\" ></td>\n",
       "                        <td id=\"T_c67b7dce_b033_11f0_bb93_0242ac120067row4_col4\" class=\"data row4 col4\" ></td>\n",
       "                        <td id=\"T_c67b7dce_b033_11f0_bb93_0242ac120067row4_col5\" class=\"data row4 col5\" ></td>\n",
       "                        <td id=\"T_c67b7dce_b033_11f0_bb93_0242ac120067row4_col6\" class=\"data row4 col6\" ></td>\n",
       "                        <td id=\"T_c67b7dce_b033_11f0_bb93_0242ac120067row4_col7\" class=\"data row4 col7\" ></td>\n",
       "                        <td id=\"T_c67b7dce_b033_11f0_bb93_0242ac120067row4_col8\" class=\"data row4 col8\" ></td>\n",
       "                        <td id=\"T_c67b7dce_b033_11f0_bb93_0242ac120067row4_col9\" class=\"data row4 col9\" ></td>\n",
       "                        <td id=\"T_c67b7dce_b033_11f0_bb93_0242ac120067row4_col10\" class=\"data row4 col10\" ></td>\n",
       "                        <td id=\"T_c67b7dce_b033_11f0_bb93_0242ac120067row4_col11\" class=\"data row4 col11\" ></td>\n",
       "            </tr>\n",
       "    </tbody></table>"
      ],
      "text/plain": [
       "<pandas.io.formats.style.Styler at 0x7a938a0fc510>"
      ]
     },
     "metadata": {},
     "output_type": "display_data"
    }
   ],
   "source": [
    "# Select an action\n",
    "action = 0\n",
    "\n",
    "# Run a single time step of the environment's dynamics with the given action.\n",
    "next_state, reward, done, _ = env.step(action)\n",
    "\n",
    "# Display table with values.\n",
    "utils.display_table(current_state, action, next_state, reward, done)\n",
    "\n",
    "# Replace the `current_state` with the state after the action is taken\n",
    "current_state = next_state"
   ]
  },
  {
   "cell_type": "markdown",
   "metadata": {},
   "source": [
    "In practice, when we train the agent we use a loop to allow the agent to take many consecutive actions during an episode."
   ]
  },
  {
   "cell_type": "markdown",
   "metadata": {},
   "source": [
    "<a name=\"6\"></a>\n",
    "## 6 - Deep Q-Learning\n",
    "\n",
    "In cases where both the state and action space are discrete we can estimate the action-value function iteratively by using the Bellman equation:\n",
    "\n",
    "$$\n",
    "Q_{i+1}(s,a) = R + \\gamma \\max_{a'}Q_i(s',a')\n",
    "$$\n",
    "\n",
    "This iterative method converges to the optimal action-value function $Q^*(s,a)$ as $i\\to\\infty$. This means that the agent just needs to gradually explore the state-action space and keep updating the estimate of $Q(s,a)$ until it converges to the optimal action-value function $Q^*(s,a)$. However, in cases where the state space is continuous it becomes practically impossible to explore the entire state-action space. Consequently, this also makes it practically impossible to gradually estimate $Q(s,a)$ until it converges to $Q^*(s,a)$.\n",
    "\n",
    "In the Deep $Q$-Learning, we solve this problem by using a neural network to estimate the action-value function $Q(s,a)\\approx Q^*(s,a)$. We call this neural network a $Q$-Network and it can be trained by adjusting its weights at each iteration to minimize the mean-squared error in the Bellman equation.\n",
    "\n",
    "Unfortunately, using neural networks in reinforcement learning to estimate action-value functions has proven to be highly unstable. Luckily, there's a couple of techniques that can be employed to avoid instabilities. These techniques consist of using a ***Target Network*** and ***Experience Replay***. We will explore these two techniques in the following sections."
   ]
  },
  {
   "cell_type": "markdown",
   "metadata": {},
   "source": [
    "<a name=\"6.1\"></a>\n",
    "### 6.1 Target Network\n",
    "\n",
    "We can train the $Q$-Network by adjusting it's weights at each iteration to minimize the mean-squared error in the Bellman equation, where the target values are given by:\n",
    "\n",
    "$$\n",
    "y = R + \\gamma \\max_{a'}Q(s',a';w)\n",
    "$$\n",
    "\n",
    "where $w$ are the weights of the $Q$-Network. This means that we are adjusting the weights $w$ at each iteration to minimize the following error:\n",
    "\n",
    "$$\n",
    "\\overbrace{\\underbrace{R + \\gamma \\max_{a'}Q(s',a'; w)}_{\\rm {y~target}} - Q(s,a;w)}^{\\rm {Error}}\n",
    "$$\n",
    "\n",
    "Notice that this forms a problem because the $y$ target is changing on every iteration. Having a constantly moving target can lead to oscillations and instabilities. To avoid this, we can create\n",
    "a separate neural network for generating the $y$ targets. We call this separate neural network the **target $\\hat Q$-Network** and it will have the same architecture as the original $Q$-Network. By using the target $\\hat Q$-Network, the above error becomes:\n",
    "\n",
    "$$\n",
    "\\overbrace{\\underbrace{R + \\gamma \\max_{a'}\\hat{Q}(s',a'; w^-)}_{\\rm {y~target}} - Q(s,a;w)}^{\\rm {Error}}\n",
    "$$\n",
    "\n",
    "where $w^-$ and $w$ are the weights of the target $\\hat Q$-Network and $Q$-Network, respectively.\n",
    "\n",
    "In practice, we will use the following algorithm: every $C$ time steps we will use the $\\hat Q$-Network to generate the $y$ targets and update the weights of the target $\\hat Q$-Network using the weights of the $Q$-Network. We will update the weights $w^-$ of the the target $\\hat Q$-Network using a **soft update**. This means that we will update the weights $w^-$ using the following rule:\n",
    " \n",
    "$$\n",
    "w^-\\leftarrow \\tau w + (1 - \\tau) w^-\n",
    "$$\n",
    "\n",
    "where $\\tau\\ll 1$. By using the soft update, we are ensuring that the target values, $y$, change slowly, which greatly improves the stability of our learning algorithm."
   ]
  },
  {
   "cell_type": "markdown",
   "metadata": {},
   "source": [
    "<a name=\"ex01\"></a>\n",
    "### Exercise 1\n",
    "\n",
    "In this exercise you will create the $Q$ and target $\\hat Q$ networks and set the optimizer. Remember that the Deep $Q$-Network (DQN) is a neural network that approximates the action-value function $Q(s,a)\\approx Q^*(s,a)$. It does this by learning how to map states to $Q$ values.\n",
    "\n",
    "To solve the Lunar Lander environment, we are going to employ a DQN with the following architecture:\n",
    "\n",
    "* An `Input` layer that takes `state_size` as input.\n",
    "\n",
    "* A `Dense` layer with `64` units and a `relu` activation function.\n",
    "\n",
    "* A `Dense` layer with `64` units and a `relu` activation function.\n",
    "\n",
    "* A `Dense` layer with `num_actions` units and a `linear` activation function. This will be the output layer of our network.\n",
    "\n",
    "\n",
    "In the cell below you should create the $Q$-Network and the target $\\hat Q$-Network using the model architecture described above. Remember that both the $Q$-Network and the target $\\hat Q$-Network have the same architecture.\n",
    "\n",
    "Lastly, you should set `Adam` as the optimizer with a learning rate equal to `ALPHA`. Recall that `ALPHA` was defined in the [Hyperparameters](#2) section. We should note that for this exercise you should use the already imported packages:\n",
    "```python\n",
    "from tensorflow.keras.layers import Dense, Input\n",
    "from tensorflow.keras.optimizers import Adam\n",
    "```"
   ]
  },
  {
   "cell_type": "code",
   "execution_count": 21,
   "metadata": {
    "deletable": false
   },
   "outputs": [],
   "source": [
    "# UNQ_C1\n",
    "# GRADED CELL\n",
    "\n",
    "# Create the Q-Network\n",
    "q_network = Sequential([\n",
    "    ### START CODE HERE ###\n",
    "    Input(shape=state_size), \n",
    "    Dense(units = 64, activation = 'relu'),\n",
    "    Dense(units = 64, activation = 'relu'),\n",
    "    Dense(units = num_actions, activation = 'linear')    \n",
    "    ### END CODE HERE ### \n",
    "    ])\n",
    "\n",
    "# Create the target Q^-Network\n",
    "target_q_network = Sequential([\n",
    "    ### START CODE HERE ### \n",
    "    Input(shape=state_size), \n",
    "    Dense(units = 64, activation = 'relu'),\n",
    "    Dense(units = 64, activation = 'relu'),\n",
    "    Dense(units = num_actions, activation = 'linear')    \n",
    "    \n",
    "    ### END CODE HERE ###\n",
    "    ])\n",
    "\n",
    "### START CODE HERE ### \n",
    "optimizer = Adam(learning_rate=ALPHA)  \n",
    "### END CODE HERE ###"
   ]
  },
  {
   "cell_type": "code",
   "execution_count": 22,
   "metadata": {
    "deletable": false,
    "editable": false
   },
   "outputs": [
    {
     "name": "stdout",
     "output_type": "stream",
     "text": [
      "\u001b[92mAll tests passed!\n",
      "\u001b[92mAll tests passed!\n",
      "\u001b[92mAll tests passed!\n"
     ]
    }
   ],
   "source": [
    "# UNIT TEST\n",
    "from public_tests import *\n",
    "\n",
    "test_network(q_network)\n",
    "test_network(target_q_network)\n",
    "test_optimizer(optimizer, ALPHA) "
   ]
  },
  {
   "cell_type": "markdown",
   "metadata": {},
   "source": [
    "<details>\n",
    "  <summary><font size=\"3\" color=\"darkgreen\"><b>Click for hints</b></font></summary>\n",
    "    \n",
    "```python\n",
    "# Create the Q-Network\n",
    "q_network = Sequential([\n",
    "    Input(shape=state_size),                      \n",
    "    Dense(units=64, activation='relu'),            \n",
    "    Dense(units=64, activation='relu'),            \n",
    "    Dense(units=num_actions, activation='linear'),\n",
    "    ])\n",
    "\n",
    "# Create the target Q^-Network\n",
    "target_q_network = Sequential([\n",
    "    Input(shape=state_size),                       \n",
    "    Dense(units=64, activation='relu'),            \n",
    "    Dense(units=64, activation='relu'),            \n",
    "    Dense(units=num_actions, activation='linear'), \n",
    "    ])\n",
    "\n",
    "optimizer = Adam(learning_rate=ALPHA)                                  \n",
    "``` "
   ]
  },
  {
   "cell_type": "markdown",
   "metadata": {},
   "source": [
    "<a name=\"6.2\"></a>\n",
    "### 6.2 Experience Replay\n",
    "\n",
    "When an agent interacts with the environment, the states, actions, and rewards the agent experiences are sequential by nature. If the agent tries to learn from these consecutive experiences it can run into problems due to the strong correlations between them. To avoid this, we employ a technique known as **Experience Replay** to generate uncorrelated experiences for training our agent. Experience replay consists of storing the agent's experiences (i.e the states, actions, and rewards the agent receives) in a memory buffer and then sampling a random mini-batch of experiences from the buffer to do the learning. The experience tuples $(S_t, A_t, R_t, S_{t+1})$ will be added to the memory buffer at each time step as the agent interacts with the environment.\n",
    "\n",
    "For convenience, we will store the experiences as named tuples."
   ]
  },
  {
   "cell_type": "code",
   "execution_count": 23,
   "metadata": {
    "deletable": false,
    "editable": false
   },
   "outputs": [],
   "source": [
    "# Store experiences as named tuples\n",
    "experience = namedtuple(\"Experience\", field_names=[\"state\", \"action\", \"reward\", \"next_state\", \"done\"])"
   ]
  },
  {
   "cell_type": "markdown",
   "metadata": {},
   "source": [
    "By using experience replay we avoid problematic correlations, oscillations and instabilities. In addition, experience replay also allows the agent to potentially use the same experience in multiple weight updates, which increases data efficiency."
   ]
  },
  {
   "cell_type": "markdown",
   "metadata": {},
   "source": [
    "<a name=\"7\"></a>\n",
    "## 7 - Deep Q-Learning Algorithm with Experience Replay\n",
    "\n",
    "Now that we know all the techniques that we are going to use, we can put them together to arrive at the Deep Q-Learning Algorithm With Experience Replay.\n",
    "<br>\n",
    "<br>\n",
    "<figure>\n",
    "  <img src = \"images/deep_q_algorithm.png\" width = 90% style = \"border: thin silver solid; padding: 0px\">\n",
    "      <figcaption style = \"text-align: center; font-style: italic\">Fig 3. Deep Q-Learning with Experience Replay.</figcaption>\n",
    "</figure>"
   ]
  },
  {
   "cell_type": "markdown",
   "metadata": {},
   "source": [
    "<a name=\"ex02\"></a>\n",
    "### Exercise 2\n",
    "\n",
    "In this exercise you will implement line ***12*** of the algorithm outlined in *Fig 3* above and you will also compute the loss between the $y$ targets and the $Q(s,a)$ values. In the cell below, complete the `compute_loss` function by setting the $y$ targets equal to:\n",
    "\n",
    "$$\n",
    "\\begin{equation}\n",
    "    y_j =\n",
    "    \\begin{cases}\n",
    "      R_j & \\text{if episode terminates at step  } j+1\\\\\n",
    "      R_j + \\gamma \\max_{a'}\\hat{Q}(s_{j+1},a') & \\text{otherwise}\\\\\n",
    "    \\end{cases}       \n",
    "\\end{equation}\n",
    "$$\n",
    "\n",
    "Here are a couple of things to note:\n",
    "\n",
    "* The `compute_loss` function takes in a mini-batch of experience tuples. This mini-batch of experience tuples is unpacked to extract the `states`, `actions`, `rewards`, `next_states`, and `done_vals`. You should keep in mind that these variables are *TensorFlow Tensors* whose size will depend on the mini-batch size. For example, if the mini-batch size is `64` then both `rewards` and `done_vals` will be TensorFlow Tensors with `64` elements.\n",
    "\n",
    "\n",
    "* Using `if/else` statements to set the $y$ targets will not work when the variables are tensors with many elements. However, notice that you can use the `done_vals` to implement the above in a single line of code. To do this, recall that the `done` variable is a Boolean variable that takes the value `True` when an episode terminates at step $j+1$ and it is `False` otherwise. Taking into account that a Boolean value of `True` has the numerical value of `1` and a Boolean value of `False` has the numerical value of `0`, you can use the factor `(1 - done_vals)` to implement the above in a single line of code. Here's a hint: notice that `(1 - done_vals)` has a value of `0` when `done_vals` is `True` and a value of `1` when `done_vals` is `False`. \n",
    "\n",
    "Lastly, compute the loss by calculating the Mean-Squared Error (`MSE`) between the `y_targets` and the `q_values`. To calculate the mean-squared error you should use the already imported package `MSE`:\n",
    "```python\n",
    "from tensorflow.keras.losses import MSE\n",
    "```"
   ]
  },
  {
   "cell_type": "code",
   "execution_count": 27,
   "metadata": {
    "deletable": false
   },
   "outputs": [],
   "source": [
    "# UNQ_C2\n",
    "# GRADED FUNCTION: calculate_loss\n",
    "\n",
    "def compute_loss(experiences, gamma, q_network, target_q_network):\n",
    "    \"\"\" \n",
    "    Calculates the loss.\n",
    "    \n",
    "    Args:\n",
    "      experiences: (tuple) tuple of [\"state\", \"action\", \"reward\", \"next_state\", \"done\"] namedtuples\n",
    "      gamma: (float) The discount factor.\n",
    "      q_network: (tf.keras.Sequential) Keras model for predicting the q_values\n",
    "      target_q_network: (tf.keras.Sequential) Keras model for predicting the targets\n",
    "          \n",
    "    Returns:\n",
    "      loss: (TensorFlow Tensor(shape=(0,), dtype=int32)) the Mean-Squared Error between\n",
    "            the y targets and the Q(s,a) values.\n",
    "    \"\"\"\n",
    "\n",
    "    # Unpack the mini-batch of experience tuples\n",
    "    states, actions, rewards, next_states, done_vals = experiences\n",
    "    \n",
    "    # Compute max Q^(s,a)\n",
    "    max_qsa = tf.reduce_max(target_q_network(next_states), axis=-1)\n",
    "    \n",
    "    # Set y = R if episode terminates, otherwise set y = R + γ max Q^(s,a).\n",
    "    ### START CODE HERE ### \n",
    "    y_targets = (1-done_vals)*(rewards+gamma*max_qsa) + done_vals*rewards #None\n",
    "    ### END CODE HERE ###\n",
    "    \n",
    "    # Get the q_values and reshape to match y_targets\n",
    "    q_values = q_network(states)\n",
    "    q_values = tf.gather_nd(q_values, tf.stack([tf.range(q_values.shape[0]),\n",
    "                                                tf.cast(actions, tf.int32)], axis=1))\n",
    "        \n",
    "    # Compute the loss\n",
    "    ### START CODE HERE ### \n",
    "    loss = MSE(y_targets, q_values) \n",
    "    ### END CODE HERE ### \n",
    "    \n",
    "    return loss"
   ]
  },
  {
   "cell_type": "code",
   "execution_count": 28,
   "metadata": {
    "deletable": false,
    "editable": false
   },
   "outputs": [
    {
     "name": "stdout",
     "output_type": "stream",
     "text": [
      "\u001b[92mAll tests passed!\n"
     ]
    }
   ],
   "source": [
    "# UNIT TEST    \n",
    "test_compute_loss(compute_loss)"
   ]
  },
  {
   "cell_type": "markdown",
   "metadata": {},
   "source": [
    "<details>\n",
    "  <summary><font size=\"3\" color=\"darkgreen\"><b>Click for hints</b></font></summary>\n",
    "    \n",
    "```python\n",
    "def compute_loss(experiences, gamma, q_network, target_q_network):\n",
    "    \"\"\" \n",
    "    Calculates the loss.\n",
    "    \n",
    "    Args:\n",
    "      experiences: (tuple) tuple of [\"state\", \"action\", \"reward\", \"next_state\", \"done\"] namedtuples\n",
    "      gamma: (float) The discount factor.\n",
    "      q_network: (tf.keras.Sequential) Keras model for predicting the q_values\n",
    "      target_q_network: (tf.keras.Sequential) Keras model for predicting the targets\n",
    "          \n",
    "    Returns:\n",
    "      loss: (TensorFlow Tensor(shape=(0,), dtype=int32)) the Mean-Squared Error between\n",
    "            the y targets and the Q(s,a) values.\n",
    "    \"\"\"\n",
    "\n",
    "    \n",
    "    # Unpack the mini-batch of experience tuples\n",
    "    states, actions, rewards, next_states, done_vals = experiences\n",
    "    \n",
    "    # Compute max Q^(s,a)\n",
    "    max_qsa = tf.reduce_max(target_q_network(next_states), axis=-1)\n",
    "    \n",
    "    # Set y = R if episode terminates, otherwise set y = R + γ max Q^(s,a).\n",
    "    y_targets = rewards + (gamma * max_qsa * (1 - done_vals))\n",
    "    \n",
    "    # Get the q_values\n",
    "    q_values = q_network(states)\n",
    "    q_values = tf.gather_nd(q_values, tf.stack([tf.range(q_values.shape[0]),\n",
    "                                                tf.cast(actions, tf.int32)], axis=1))\n",
    "    \n",
    "    # Calculate the loss\n",
    "    loss = MSE(y_targets, q_values)\n",
    "    \n",
    "    return loss\n",
    "\n",
    "``` \n",
    "    "
   ]
  },
  {
   "cell_type": "markdown",
   "metadata": {},
   "source": [
    "<a name=\"8\"></a>\n",
    "## 8 - Update the Network Weights\n",
    "\n",
    "We will use the `agent_learn` function below to implement lines ***12 -14*** of the algorithm outlined in [Fig 3](#7). The `agent_learn` function will update the weights of the $Q$ and target $\\hat Q$ networks using a custom training loop. Because we are using a custom training loop we need to retrieve the gradients via a `tf.GradientTape` instance, and then call `optimizer.apply_gradients()` to update the weights of our $Q$-Network. Note that we are also using the `@tf.function` decorator to increase performance. Without this decorator our training will take twice as long. If you would like to know more about how to increase performance with `@tf.function` take a look at the [TensorFlow documentation](https://www.tensorflow.org/guide/function).\n",
    "\n",
    "The last line of this function updates the weights of the target $\\hat Q$-Network using a [soft update](#6.1). If you want to know how this is implemented in code we encourage you to take a look at the `utils.update_target_network` function in the `utils` module."
   ]
  },
  {
   "cell_type": "code",
   "execution_count": 29,
   "metadata": {
    "deletable": false,
    "editable": false
   },
   "outputs": [],
   "source": [
    "@tf.function\n",
    "def agent_learn(experiences, gamma):\n",
    "    \"\"\"\n",
    "    Updates the weights of the Q networks.\n",
    "    \n",
    "    Args:\n",
    "      experiences: (tuple) tuple of [\"state\", \"action\", \"reward\", \"next_state\", \"done\"] namedtuples\n",
    "      gamma: (float) The discount factor.\n",
    "    \n",
    "    \"\"\"\n",
    "    \n",
    "    # Calculate the loss\n",
    "    with tf.GradientTape() as tape:\n",
    "        loss = compute_loss(experiences, gamma, q_network, target_q_network)\n",
    "\n",
    "    # Get the gradients of the loss with respect to the weights.\n",
    "    gradients = tape.gradient(loss, q_network.trainable_variables)\n",
    "    \n",
    "    # Update the weights of the q_network.\n",
    "    optimizer.apply_gradients(zip(gradients, q_network.trainable_variables))\n",
    "\n",
    "    # update the weights of target q_network\n",
    "    utils.update_target_network(q_network, target_q_network)"
   ]
  },
  {
   "cell_type": "markdown",
   "metadata": {},
   "source": [
    "<a name=\"9\"></a>\n",
    "## 9 - Train the Agent\n",
    "\n",
    "We are now ready to train our agent to solve the Lunar Lander environment. In the cell below we will implement the algorithm in [Fig 3](#7) line by line (please note that we have included the same algorithm below for easy reference. This will prevent you from scrolling up and down the notebook):\n",
    "\n",
    "* **Line 1**: We initialize the `memory_buffer` with a capacity of $N =$ `MEMORY_SIZE`. Notice that we are using a `deque` as the data structure for our `memory_buffer`.\n",
    "\n",
    "\n",
    "* **Line 2**: We skip this line since we already initialized the `q_network` in [Exercise 1](#ex01).\n",
    "\n",
    "\n",
    "* **Line 3**: We initialize the `target_q_network` by setting its weights to be equal to those of the `q_network`.\n",
    "\n",
    "\n",
    "* **Line 4**: We start the outer loop. Notice that we have set $M =$ `num_episodes = 2000`. This number is reasonable because the agent should be able to solve the Lunar Lander environment in less than `2000` episodes using this notebook's default parameters.\n",
    "\n",
    "\n",
    "* **Line 5**: We use the `.reset()` method to reset the environment to the initial state and get the initial state.\n",
    "\n",
    "\n",
    "* **Line 6**: We start the inner loop. Notice that we have set $T =$ `max_num_timesteps = 1000`. This means that the episode will automatically terminate if the episode hasn't terminated after `1000` time steps.\n",
    "\n",
    "\n",
    "* **Line 7**: The agent observes the current `state` and chooses an `action` using an $\\epsilon$-greedy policy. Our agent starts out using a value of $\\epsilon =$ `epsilon = 1` which yields an $\\epsilon$-greedy policy that is equivalent to the equiprobable random policy. This means that at the beginning of our training, the agent is just going to take random actions regardless of the observed `state`. As training progresses we will decrease the value of $\\epsilon$ slowly towards a minimum value using a given $\\epsilon$-decay rate. We want this minimum value to be close to zero because a value of $\\epsilon = 0$ will yield an $\\epsilon$-greedy policy that is equivalent to the greedy policy. This means that towards the end of training, the agent will lean towards selecting the `action` that it believes (based on its past experiences) will maximize $Q(s,a)$. We will set the minimum $\\epsilon$ value to be `0.01` and not exactly 0 because we always want to keep a little bit of exploration during training. If you want to know how this is implemented in code we encourage you to take a look at the `utils.get_action` function in the `utils` module.\n",
    "\n",
    "\n",
    "* **Line 8**: We use the `.step()` method to take the given `action` in the environment and get the `reward` and the `next_state`. \n",
    "\n",
    "\n",
    "* **Line 9**: We store the `experience(state, action, reward, next_state, done)` tuple in our `memory_buffer`. Notice that we also store the `done` variable so that we can keep track of when an episode terminates. This allowed us to set the $y$ targets in [Exercise 2](#ex02).\n",
    "\n",
    "\n",
    "* **Line 10**: We check if the conditions are met to perform a learning update. We do this by using our custom `utils.check_update_conditions` function. This function checks if $C =$ `NUM_STEPS_FOR_UPDATE = 4` time steps have occured and if our `memory_buffer` has enough experience tuples to fill a mini-batch. For example, if the mini-batch size is `64`, then our `memory_buffer` should have more than `64` experience tuples in order to pass the latter condition. If the conditions are met, then the `utils.check_update_conditions` function will return a value of `True`, otherwise it will return a value of `False`.\n",
    "\n",
    "\n",
    "* **Lines 11 - 14**: If the `update` variable is `True` then we perform a learning update. The learning update consists of sampling a random mini-batch of experience tuples from our `memory_buffer`, setting the $y$ targets, performing gradient descent, and updating the weights of the networks. We will use the `agent_learn` function we defined in [Section 8](#8) to perform the latter 3.\n",
    "\n",
    "\n",
    "* **Line 15**: At the end of each iteration of the inner loop we set `next_state` as our new `state` so that the loop can start again from this new state. In addition, we check if the episode has reached a terminal state (i.e we check if `done = True`). If a terminal state has been reached, then we break out of the inner loop.\n",
    "\n",
    "\n",
    "* **Line 16**: At the end of each iteration of the outer loop we update the value of $\\epsilon$, and check if the environment has been solved. We consider that the environment has been solved if the agent receives an average of `200` points in the last `100` episodes. If the environment has not been solved we continue the outer loop and start a new episode.\n",
    "\n",
    "Finally, we wanted to note that we have included some extra variables to keep track of the total number of points the agent received in each episode. This will help us determine if the agent has solved the environment and it will also allow us to see how our agent performed during training. We also use the `time` module to measure how long the training takes. \n",
    "\n",
    "<br>\n",
    "<br>\n",
    "<figure>\n",
    "  <img src = \"images/deep_q_algorithm.png\" width = 90% style = \"border: thin silver solid; padding: 0px\">\n",
    "      <figcaption style = \"text-align: center; font-style: italic\">Fig 4. Deep Q-Learning with Experience Replay.</figcaption>\n",
    "</figure>\n",
    "<br>\n",
    "\n",
    "**Note:** With this notebook's default parameters, the following cell takes between 10 to 15 minutes to run. "
   ]
  },
  {
   "cell_type": "code",
   "execution_count": 31,
   "metadata": {
    "deletable": false,
    "editable": false
   },
   "outputs": [
    {
     "name": "stdout",
     "output_type": "stream",
     "text": [
      "Episode 100 | Total point average of the last 100 episodes: -161.55\n",
      "Episode 200 | Total point average of the last 100 episodes: -88.050\n",
      "Episode 300 | Total point average of the last 100 episodes: -53.76\n",
      "Episode 400 | Total point average of the last 100 episodes: -23.94\n",
      "Episode 500 | Total point average of the last 100 episodes: 71.775\n",
      "Episode 579 | Total point average of the last 100 episodes: 201.52\n",
      "\n",
      "Environment solved in 579 episodes!\n",
      "\n",
      "Total Runtime: 880.04 s (14.67 min)\n"
     ]
    }
   ],
   "source": [
    "start = time.time()\n",
    "\n",
    "num_episodes = 2000\n",
    "max_num_timesteps = 1000\n",
    "\n",
    "total_point_history = []\n",
    "\n",
    "num_p_av = 100    # number of total points to use for averaging\n",
    "epsilon = 1.0     # initial ε value for ε-greedy policy\n",
    "\n",
    "# Create a memory buffer D with capacity N\n",
    "memory_buffer = deque(maxlen=MEMORY_SIZE)\n",
    "\n",
    "# Set the target network weights equal to the Q-Network weights\n",
    "target_q_network.set_weights(q_network.get_weights())\n",
    "\n",
    "for i in range(num_episodes):\n",
    "    \n",
    "    # Reset the environment to the initial state and get the initial state\n",
    "    state = env.reset()\n",
    "    total_points = 0\n",
    "    \n",
    "    for t in range(max_num_timesteps):\n",
    "        \n",
    "        # From the current state S choose an action A using an ε-greedy policy\n",
    "        state_qn = np.expand_dims(state, axis=0)  # state needs to be the right shape for the q_network\n",
    "        q_values = q_network(state_qn)\n",
    "        action = utils.get_action(q_values, epsilon)\n",
    "        \n",
    "        # Take action A and receive reward R and the next state S'\n",
    "        next_state, reward, done, _ = env.step(action)\n",
    "        \n",
    "        # Store experience tuple (S,A,R,S') in the memory buffer.\n",
    "        # We store the done variable as well for convenience.\n",
    "        memory_buffer.append(experience(state, action, reward, next_state, done))\n",
    "        \n",
    "        # Only update the network every NUM_STEPS_FOR_UPDATE time steps.\n",
    "        update = utils.check_update_conditions(t, NUM_STEPS_FOR_UPDATE, memory_buffer)\n",
    "        \n",
    "        if update:\n",
    "            # Sample random mini-batch of experience tuples (S,A,R,S') from D\n",
    "            experiences = utils.get_experiences(memory_buffer)\n",
    "            \n",
    "            # Set the y targets, perform a gradient descent step,\n",
    "            # and update the network weights.\n",
    "            agent_learn(experiences, GAMMA)\n",
    "        \n",
    "        state = next_state.copy()\n",
    "        total_points += reward\n",
    "        \n",
    "        if done:\n",
    "            break\n",
    "            \n",
    "    total_point_history.append(total_points)\n",
    "    av_latest_points = np.mean(total_point_history[-num_p_av:])\n",
    "    \n",
    "    # Update the ε value\n",
    "    epsilon = utils.get_new_eps(epsilon)\n",
    "\n",
    "    print(f\"\\rEpisode {i+1} | Total point average of the last {num_p_av} episodes: {av_latest_points:.2f}\", end=\"\")\n",
    "\n",
    "    if (i+1) % num_p_av == 0:\n",
    "        print(f\"\\rEpisode {i+1} | Total point average of the last {num_p_av} episodes: {av_latest_points:.2f}\")\n",
    "\n",
    "    # We will consider that the environment is solved if we get an\n",
    "    # average of 200 points in the last 100 episodes.\n",
    "    if av_latest_points >= 200.0:\n",
    "        print(f\"\\n\\nEnvironment solved in {i+1} episodes!\")\n",
    "        q_network.save('lunar_lander_model.h5')\n",
    "        break\n",
    "        \n",
    "tot_time = time.time() - start\n",
    "\n",
    "print(f\"\\nTotal Runtime: {tot_time:.2f} s ({(tot_time/60):.2f} min)\")"
   ]
  },
  {
   "cell_type": "markdown",
   "metadata": {},
   "source": [
    "We can plot the total point history along with the moving average to see how our agent improved during training. If you want to know about the different plotting options available in the `utils.plot_history` function we encourage you to take a look at the `utils` module."
   ]
  },
  {
   "cell_type": "code",
   "execution_count": 32,
   "metadata": {
    "deletable": false,
    "editable": false,
    "id": "E_EUXxurfe8m",
    "scrolled": false
   },
   "outputs": [
    {
     "data": {
      "image/png": "[encoded data removed]",
      "text/plain": [
       "<Figure size 720x504 with 1 Axes>"
      ]
     },
     "metadata": {},
     "output_type": "display_data"
    }
   ],
   "source": [
    "# Plot the total point history along with the moving average\n",
    "utils.plot_history(total_point_history)"
   ]
  },
  {
   "cell_type": "markdown",
   "metadata": {
    "id": "c_xwgaX5MnYt"
   },
   "source": [
    "<a name=\"10\"></a>\n",
    "## 10 - See the Trained Agent In Action\n",
    "\n",
    "Now that we have trained our agent, we can see it in action. We will use the `utils.create_video` function to create a video of our agent interacting with the environment using the trained $Q$-Network. The `utils.create_video` function uses the `imageio` library to create the video. This library produces some warnings that can be distracting, so, to suppress these warnings we run the code below."
   ]
  },
  {
   "cell_type": "code",
   "execution_count": 33,
   "metadata": {
    "deletable": false,
    "editable": false
   },
   "outputs": [],
   "source": [
    "# Suppress warnings from imageio\n",
    "import logging\n",
    "logging.getLogger().setLevel(logging.ERROR)"
   ]
  },
  {
   "cell_type": "markdown",
   "metadata": {},
   "source": [
    "In the cell below we create a video of our agent interacting with the Lunar Lander environment using the trained `q_network`. The video is saved to the `videos` folder with the given `filename`. We use the `utils.embed_mp4` function to embed the video in the Jupyter Notebook so that we can see it here directly without having to download it.\n",
    "\n",
    "We should note that since the lunar lander starts with a random initial force applied to its center of mass, every time you run the cell below you will see a different video. If the agent was trained properly, it should be able to land the lunar lander in the landing pad every time, regardless of the initial force applied to its center of mass."
   ]
  },
  {
   "cell_type": "code",
   "execution_count": 34,
   "metadata": {
    "deletable": false,
    "editable": false,
    "id": "3Ttb_zLeJKiG"
   },
   "outputs": [
    {
     "data": {
      "text/html": [
       "\n",
       "    <video width=\"840\" height=\"480\" controls>\n",
       "    <source src=\"data:video/mp4;base64,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\" type=\"video/mp4\">\n",
       "    Your browser does not support the video tag.\n",
       "    </video>"
      ],
      "text/plain": [
       "<IPython.core.display.HTML object>"
      ]
     },
     "execution_count": 34,
     "metadata": {},
     "output_type": "execute_result"
    }
   ],
   "source": [
    "filename = \"./videos/lunar_lander.mp4\"\n",
    "\n",
    "utils.create_video(filename, env, q_network)\n",
    "utils.embed_mp4(filename)"
   ]
  },
  {
   "cell_type": "markdown",
   "metadata": {},
   "source": [
    "<a name=\"11\"></a>\n",
    "## 11 - Congratulations!\n",
    "\n",
    "You have successfully used Deep Q-Learning with Experience Replay to train an agent to land a lunar lander safely on a landing pad on the surface of the moon. Congratulations!"
   ]
  },
  {
   "cell_type": "markdown",
   "metadata": {},
   "source": [
    "<a name=\"12\"></a>\n",
    "## 12 - References\n",
    "\n",
    "If you would like to learn more about Deep Q-Learning, we recommend you check out the following papers.\n",
    "\n",
    "\n",
    "* Mnih, V., Kavukcuoglu, K., Silver, D. et al. Human-level control through deep reinforcement learning. Nature 518, 529–533 (2015).\n",
    "\n",
    "\n",
    "* Lillicrap, T. P., Hunt, J. J., Pritzel, A., et al. Continuous Control with Deep Reinforcement Learning. ICLR (2016).\n",
    "\n",
    "\n",
    "* Mnih, V., Kavukcuoglu, K., Silver, D. et al. Playing Atari with Deep Reinforcement Learning. arXiv e-prints.  arXiv:1312.5602 (2013)."
   ]
  },
  {
   "cell_type": "markdown",
   "metadata": {},
   "source": [
    "<details>\n",
    "  <summary><font size=\"2\" color=\"darkgreen\"><b>Please click here if you want to experiment with any of the non-graded code.</b></font></summary>\n",
    "    <p><i><b>Important Note: Please only do this when you've already passed the assignment to avoid problems with the autograder.</b></i>\n",
    "    <ol>\n",
    "        <li> On the notebook’s menu, click “View” > “Cell Toolbar” > “Edit Metadata”</li>\n",
    "        <li> Hit the “Edit Metadata” button next to the code cell which you want to lock/unlock</li>\n",
    "        <li> Set the attribute value for “editable” to:\n",
    "            <ul>\n",
    "                <li> “true” if you want to unlock it </li>\n",
    "                <li> “false” if you want to lock it </li>\n",
    "            </ul>\n",
    "        </li>\n",
    "        <li> On the notebook’s menu, click “View” > “Cell Toolbar” > “None” </li>\n",
    "    </ol>\n",
    "    <p> Here's a short demo of how to do the steps above: \n",
    "        <br>\n",
    "        <img src=\"https://lh3.google.com/u/0/d/14Xy_Mb17CZVgzVAgq7NCjMVBvSae3xO1\" align=\"center\" alt=\"unlock_cells.gif\">\n",
    "</details>"
   ]
  }
 ],
 "metadata": {
  "accelerator": "GPU",
  "colab": {
   "collapsed_sections": [],
   "name": "TensorFlow - Lunar Lander.ipynb",
   "provenance": []
  },
  "kernelspec": {
   "display_name": "Python 3",
   "language": "python",
   "name": "python3"
  },
  "language_info": {
   "codemirror_mode": {
    "name": "ipython",
    "version": 3
   },
   "file_extension": ".py",
   "mimetype": "text/x-python",
   "name": "python",
   "nbconvert_exporter": "python",
   "pygments_lexer": "ipython3",
   "version": "3.7.6"
  }
 },
 "nbformat": 4,
 "nbformat_minor": 1
}
